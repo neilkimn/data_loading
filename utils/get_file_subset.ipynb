{
 "cells": [
  {
   "cell_type": "code",
   "execution_count": 41,
   "metadata": {},
   "outputs": [],
   "source": [
    "import os\n",
    "import shutil\n",
    "from pathlib import Path"
   ]
  },
  {
   "cell_type": "code",
   "execution_count": 55,
   "metadata": {},
   "outputs": [],
   "source": [
    "IMAGENET_ROOT = Path(\"/raid/datasets/imagenet/\")\n",
    "imagenet_train = IMAGENET_ROOT / \"train\"\n",
    "imagenet_val = IMAGENET_ROOT / \"val\"\n",
    "\n",
    "NEW_IMAGENET_ROOT = Path(\"/home/neni/imagenet/\")\n",
    "NEW_IMAGENET_ROOT.mkdir(exist_ok=True)\n",
    "\n",
    "new_imagenet_train = NEW_IMAGENET_ROOT / \"train\"\n",
    "new_imagenet_train.mkdir(exist_ok=True)\n",
    "\n",
    "new_imagenet_val = NEW_IMAGENET_ROOT / \"val\"\n",
    "new_imagenet_val.mkdir(exist_ok=True)"
   ]
  },
  {
   "cell_type": "code",
   "execution_count": 56,
   "metadata": {},
   "outputs": [],
   "source": [
    "subset_n = 200 # default is 1300"
   ]
  },
  {
   "cell_type": "code",
   "execution_count": 54,
   "metadata": {},
   "outputs": [],
   "source": [
    "labels = os.listdir(imagenet_train)\n",
    "\n",
    "for label in labels:\n",
    "    images = os.listdir(imagenet_train / label)\n",
    "    for idx, img in enumerate(images):\n",
    "        if idx > subset_n-1:\n",
    "            break\n",
    "        label_path = new_imagenet_train / label\n",
    "        label_path.mkdir(exist_ok=True)\n",
    "        shutil.copyfile(imagenet_train / label / img, new_imagenet_train / label / img)"
   ]
  },
  {
   "cell_type": "code",
   "execution_count": 57,
   "metadata": {},
   "outputs": [
    {
     "ename": "NotADirectoryError",
     "evalue": "[Errno 20] Not a directory: '/raid/datasets/imagenet/val/ILSVRC2012_img_val.tar'",
     "output_type": "error",
     "traceback": [
      "\u001b[0;31m---------------------------------------------------------------------------\u001b[0m",
      "\u001b[0;31mNotADirectoryError\u001b[0m                        Traceback (most recent call last)",
      "\u001b[0;32m/tmp/ipykernel_3234808/3970252119.py\u001b[0m in \u001b[0;36m<module>\u001b[0;34m\u001b[0m\n\u001b[1;32m      2\u001b[0m \u001b[0;34m\u001b[0m\u001b[0m\n\u001b[1;32m      3\u001b[0m \u001b[0;32mfor\u001b[0m \u001b[0mlabel\u001b[0m \u001b[0;32min\u001b[0m \u001b[0mlabels\u001b[0m\u001b[0;34m:\u001b[0m\u001b[0;34m\u001b[0m\u001b[0;34m\u001b[0m\u001b[0m\n\u001b[0;32m----> 4\u001b[0;31m     \u001b[0mimages\u001b[0m \u001b[0;34m=\u001b[0m \u001b[0mos\u001b[0m\u001b[0;34m.\u001b[0m\u001b[0mlistdir\u001b[0m\u001b[0;34m(\u001b[0m\u001b[0mimagenet_val\u001b[0m \u001b[0;34m/\u001b[0m \u001b[0mlabel\u001b[0m\u001b[0;34m)\u001b[0m\u001b[0;34m\u001b[0m\u001b[0;34m\u001b[0m\u001b[0m\n\u001b[0m\u001b[1;32m      5\u001b[0m     \u001b[0;32mfor\u001b[0m \u001b[0midx\u001b[0m\u001b[0;34m,\u001b[0m \u001b[0mimg\u001b[0m \u001b[0;32min\u001b[0m \u001b[0menumerate\u001b[0m\u001b[0;34m(\u001b[0m\u001b[0mimages\u001b[0m\u001b[0;34m)\u001b[0m\u001b[0;34m:\u001b[0m\u001b[0;34m\u001b[0m\u001b[0;34m\u001b[0m\u001b[0m\n\u001b[1;32m      6\u001b[0m         \u001b[0;32mif\u001b[0m \u001b[0midx\u001b[0m \u001b[0;34m>\u001b[0m \u001b[0msubset_n\u001b[0m\u001b[0;34m-\u001b[0m\u001b[0;36m1\u001b[0m\u001b[0;34m:\u001b[0m\u001b[0;34m\u001b[0m\u001b[0;34m\u001b[0m\u001b[0m\n",
      "\u001b[0;31mNotADirectoryError\u001b[0m: [Errno 20] Not a directory: '/raid/datasets/imagenet/val/ILSVRC2012_img_val.tar'"
     ]
    }
   ],
   "source": [
    "labels = os.listdir(imagenet_val)\n",
    "\n",
    "for label in labels:\n",
    "    images = os.listdir(imagenet_val / label)\n",
    "    for idx, img in enumerate(images):\n",
    "        if idx > subset_n-1:\n",
    "            break\n",
    "        label_path = new_imagenet_val / label\n",
    "        label_path.mkdir(exist_ok=True)\n",
    "        shutil.copyfile(imagenet_val / label / img, new_imagenet_val / label / img)"
   ]
  },
  {
   "cell_type": "code",
   "execution_count": null,
   "metadata": {},
   "outputs": [],
   "source": []
  }
 ],
 "metadata": {
  "kernelspec": {
   "display_name": "Python 3.9.7 ('data_loading')",
   "language": "python",
   "name": "python3"
  },
  "language_info": {
   "codemirror_mode": {
    "name": "ipython",
    "version": 3
   },
   "file_extension": ".py",
   "mimetype": "text/x-python",
   "name": "python",
   "nbconvert_exporter": "python",
   "pygments_lexer": "ipython3",
   "version": "3.9.7"
  },
  "orig_nbformat": 4,
  "vscode": {
   "interpreter": {
    "hash": "8afd3472698d0e39f9de7acc7f4c82a2709721ae1bc28dd035f345c0367a0b62"
   }
  }
 },
 "nbformat": 4,
 "nbformat_minor": 2
}
